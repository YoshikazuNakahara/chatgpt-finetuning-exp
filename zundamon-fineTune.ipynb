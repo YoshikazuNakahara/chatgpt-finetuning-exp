{
 "cells": [
  {
   "cell_type": "markdown",
   "id": "f842808a-5572-4d6f-b3cc-22fd571a77a8",
   "metadata": {},
   "source": [
    "下記を参考にした\n",
    "[How_to_finetune_chat_models.ipynb](https://github.com/openai/openai-cookbook/blob/main/examples/How_to_finetune_chat_models.ipynb)"
   ]
  },
  {
   "cell_type": "code",
   "execution_count": 3,
   "id": "0be4e4b7-d389-4dfc-be6d-78198ab0636b",
   "metadata": {},
   "outputs": [],
   "source": [
    "import json\n",
    "import openai\n",
    "import os\n",
    "import pandas as pd\n",
    "from pprint import pprint\n",
    "\n",
    "chatgpt_key = os.environ['CHATGPT_KEY']\n",
    "client = openai.OpenAI(api_key=os.environ.get(\"OPENAI_API_KEY\", chatgpt_key))"
   ]
  },
  {
   "cell_type": "code",
   "execution_count": 5,
   "id": "5c9d9a5f-692a-4c31-94ae-38b2781910fc",
   "metadata": {},
   "outputs": [
    {
     "data": {
      "text/html": [
       "<div>\n",
       "<style scoped>\n",
       "    .dataframe tbody tr th:only-of-type {\n",
       "        vertical-align: middle;\n",
       "    }\n",
       "\n",
       "    .dataframe tbody tr th {\n",
       "        vertical-align: top;\n",
       "    }\n",
       "\n",
       "    .dataframe thead th {\n",
       "        text-align: right;\n",
       "    }\n",
       "</style>\n",
       "<table border=\"1\" class=\"dataframe\">\n",
       "  <thead>\n",
       "    <tr style=\"text-align: right;\">\n",
       "      <th></th>\n",
       "      <th>Question</th>\n",
       "      <th>Answer</th>\n",
       "    </tr>\n",
       "  </thead>\n",
       "  <tbody>\n",
       "    <tr>\n",
       "      <th>0</th>\n",
       "      <td>ずんだもんとは</td>\n",
       "      <td>SSS合同会社によるずんだ餅をモチーフにした東北地方のマスコットキャラクター</td>\n",
       "    </tr>\n",
       "    <tr>\n",
       "      <th>1</th>\n",
       "      <td>ずんだもんの性別は</td>\n",
       "      <td>女</td>\n",
       "    </tr>\n",
       "    <tr>\n",
       "      <th>2</th>\n",
       "      <td>ずんだもんの種族は</td>\n",
       "      <td>ずんだの妖精</td>\n",
       "    </tr>\n",
       "    <tr>\n",
       "      <th>3</th>\n",
       "      <td>ずんだもんの特技は</td>\n",
       "      <td>ずんだアローへの変身</td>\n",
       "    </tr>\n",
       "    <tr>\n",
       "      <th>4</th>\n",
       "      <td>ずんだもんは誰にデザインされましたか</td>\n",
       "      <td>江戸村ににこ</td>\n",
       "    </tr>\n",
       "  </tbody>\n",
       "</table>\n",
       "</div>"
      ],
      "text/plain": [
       "             Question                                  Answer\n",
       "0             ずんだもんとは  SSS合同会社によるずんだ餅をモチーフにした東北地方のマスコットキャラクター\n",
       "1           ずんだもんの性別は                                       女\n",
       "2           ずんだもんの種族は                                  ずんだの妖精\n",
       "3           ずんだもんの特技は                              ずんだアローへの変身\n",
       "4  ずんだもんは誰にデザインされましたか                                  江戸村ににこ"
      ]
     },
     "execution_count": 5,
     "metadata": {},
     "output_type": "execute_result"
    }
   ],
   "source": [
    "# Read in the dataset we'll use for this task.\n",
    "recipe_df = pd.read_csv(\"./zundamon.csv\")\n",
    "\n",
    "recipe_df.head()"
   ]
  },
  {
   "cell_type": "code",
   "execution_count": 6,
   "id": "259d18b1-bac2-41ff-8a0f-eb03b5a9fdc9",
   "metadata": {},
   "outputs": [
    {
     "name": "stdout",
     "output_type": "stream",
     "text": [
      "{'messages': [{'content': 'You are a helpful assistant. You reply based on '\n",
      "                          'each of the facts provided in Japanese.',\n",
      "               'role': 'system'},\n",
      "              {'content': 'ずんだもんとは', 'role': 'user'},\n",
      "              {'content': 'SSS合同会社によるずんだ餅をモチーフにした東北地方のマスコットキャラクター',\n",
      "               'role': 'assistant'}]}\n"
     ]
    }
   ],
   "source": [
    "training_data = []\n",
    "\n",
    "system_message = \"You are a helpful assistant. You reply based on each of the facts provided in Japanese.\"\n",
    "\n",
    "def prepare_example_conversation(row):\n",
    "    messages = []\n",
    "    messages.append({\"role\": \"system\", \"content\": system_message})\n",
    "\n",
    "    messages.append({\"role\": \"user\", \"content\": row[\"Question\"]})\n",
    "\n",
    "    messages.append({\"role\": \"assistant\", \"content\": row[\"Answer\"]})\n",
    "\n",
    "    return {\"messages\": messages}\n",
    "\n",
    "pprint(prepare_example_conversation(recipe_df.iloc[0]))"
   ]
  },
  {
   "cell_type": "code",
   "execution_count": 7,
   "id": "651ddc81-4ae5-4dc9-9efb-1fd05f884527",
   "metadata": {},
   "outputs": [
    {
     "name": "stdout",
     "output_type": "stream",
     "text": [
      "{'messages': [{'role': 'system', 'content': 'You are a helpful assistant. You reply based on each of the facts provided in Japanese.'}, {'role': 'user', 'content': 'ずんだもんとは'}, {'role': 'assistant', 'content': 'SSS合同会社によるずんだ餅をモチーフにした東北地方のマスコットキャラクター'}]}\n",
      "{'messages': [{'role': 'system', 'content': 'You are a helpful assistant. You reply based on each of the facts provided in Japanese.'}, {'role': 'user', 'content': 'ずんだもんの性別は'}, {'role': 'assistant', 'content': '女'}]}\n",
      "{'messages': [{'role': 'system', 'content': 'You are a helpful assistant. You reply based on each of the facts provided in Japanese.'}, {'role': 'user', 'content': 'ずんだもんの種族は'}, {'role': 'assistant', 'content': 'ずんだの妖精'}]}\n",
      "{'messages': [{'role': 'system', 'content': 'You are a helpful assistant. You reply based on each of the facts provided in Japanese.'}, {'role': 'user', 'content': 'ずんだもんの特技は'}, {'role': 'assistant', 'content': 'ずんだアローへの変身'}]}\n",
      "{'messages': [{'role': 'system', 'content': 'You are a helpful assistant. You reply based on each of the facts provided in Japanese.'}, {'role': 'user', 'content': 'ずんだもんは誰にデザインされましたか'}, {'role': 'assistant', 'content': '江戸村ににこ'}]}\n"
     ]
    }
   ],
   "source": [
    "# use the first 100 rows of the dataset for training\n",
    "training_df = recipe_df.loc[0:53]\n",
    "\n",
    "# apply the prepare_example_conversation function to each row of the training_df\n",
    "training_data = training_df.apply(prepare_example_conversation, axis=1).tolist()\n",
    "\n",
    "for example in training_data[:5]:\n",
    "    print(example)"
   ]
  },
  {
   "cell_type": "code",
   "execution_count": 97,
   "id": "5983a882-2539-41eb-b427-c0081c2eda89",
   "metadata": {},
   "outputs": [],
   "source": [
    "validation_df = recipe_df.loc[54:89]\n",
    "validation_data = validation_df.apply(prepare_example_conversation, axis=1).tolist()"
   ]
  },
  {
   "cell_type": "code",
   "execution_count": 98,
   "id": "5af9933a-ff18-426a-ba78-19ff3cbb6dac",
   "metadata": {},
   "outputs": [],
   "source": [
    "def write_jsonl(data_list: list, filename: str) -> None:\n",
    "    with open(filename, \"w\") as out:\n",
    "        for ddict in data_list:\n",
    "            jout = json.dumps(ddict) + \"\\n\"\n",
    "            out.write(jout)"
   ]
  },
  {
   "cell_type": "code",
   "execution_count": 99,
   "id": "a46a2be5-bec3-4471-8e4d-3a293652dfa1",
   "metadata": {},
   "outputs": [],
   "source": [
    "training_file_name = \"tmp_zundamon_finetune_training.jsonl\"\n",
    "write_jsonl(training_data, training_file_name)\n",
    "\n",
    "validation_file_name = \"tmp_zundamon_finetune_validation.jsonl\"\n",
    "write_jsonl(validation_data, validation_file_name)"
   ]
  },
  {
   "cell_type": "code",
   "execution_count": 100,
   "id": "1cd5005b-9b7a-4828-bf21-9e11ca88c626",
   "metadata": {},
   "outputs": [
    {
     "name": "stdout",
     "output_type": "stream",
     "text": [
      "Training file ID: file-24Msg4YEaykEXc6a5GcVaxIa\n",
      "Validation file ID: file-ihrdmfh88s2M57TMWn5WiaEl\n"
     ]
    }
   ],
   "source": [
    "with open(training_file_name, \"rb\") as training_fd:\n",
    "    training_response = client.files.create(\n",
    "        file=training_fd, purpose=\"fine-tune\"\n",
    "    )\n",
    "\n",
    "training_file_id = training_response.id\n",
    "\n",
    "with open(validation_file_name, \"rb\") as validation_fd:\n",
    "    validation_response = client.files.create(\n",
    "        file=validation_fd, purpose=\"fine-tune\"\n",
    "    )\n",
    "validation_file_id = validation_response.id\n",
    "\n",
    "print(\"Training file ID:\", training_file_id)\n",
    "print(\"Validation file ID:\", validation_file_id)"
   ]
  },
  {
   "cell_type": "code",
   "execution_count": 101,
   "id": "80a62d66-c608-41cc-acfd-a4f7e3f7cbda",
   "metadata": {},
   "outputs": [
    {
     "name": "stdout",
     "output_type": "stream",
     "text": [
      "Job ID: ftjob-9aT8eju4o75p3jwJ2Ao4ow6i\n",
      "Status: validating_files\n"
     ]
    }
   ],
   "source": [
    "response = client.fine_tuning.jobs.create(\n",
    "    training_file=training_file_id,\n",
    "    validation_file=validation_file_id,\n",
    "    model=\"gpt-3.5-turbo\",\n",
    "    suffix=\"zundamon-ner\",\n",
    ")\n",
    "\n",
    "job_id = response.id\n",
    "\n",
    "print(\"Job ID:\", response.id)\n",
    "print(\"Status:\", response.status)"
   ]
  },
  {
   "cell_type": "code",
   "execution_count": 102,
   "id": "76c0e9de-d530-447e-9755-37e5f00de007",
   "metadata": {},
   "outputs": [
    {
     "name": "stdout",
     "output_type": "stream",
     "text": [
      "Fine-tuned model ID: ft:gpt-3.5-turbo-0125:personal:zundamon-ner:9SNdZ8Dq\n"
     ]
    }
   ],
   "source": [
    "response = client.fine_tuning.jobs.retrieve(job_id)\n",
    "fine_tuned_model_id = response.fine_tuned_model\n",
    "\n",
    "if fine_tuned_model_id is None: \n",
    "    raise RuntimeError(\"Fine-tuned model ID not found. Your job has likely not been completed yet.\")\n",
    "\n",
    "print(\"Fine-tuned model ID:\", fine_tuned_model_id)"
   ]
  },
  {
   "cell_type": "code",
   "execution_count": 21,
   "id": "c88f95b1-d86d-4e64-85ee-28cff68bdac9",
   "metadata": {},
   "outputs": [
    {
     "name": "stdout",
     "output_type": "stream",
     "text": [
      "[{'content': 'You are a helpful assistant. You reply based on each of the '\n",
      "             'facts provided in Japanese.',\n",
      "  'role': 'system'},\n",
      " {'content': 'ずんだもんは誰がデザイン', 'role': 'user'}]\n"
     ]
    }
   ],
   "source": [
    "test_df = recipe_df.loc[:]\n",
    "test_row = test_df.iloc[5]\n",
    "test_messages = []\n",
    "test_messages.append({\"role\": \"system\", \"content\": system_message})\n",
    "user_message = test_row[\"Question\"]\n",
    "#test_messages.append({\"role\": \"user\", \"content\": user_message})\n",
    "\n",
    "ques = \"ずんだもんは誰がデザイン\"\n",
    "test_messages.append({\"role\": \"user\", \"content\": ques})\n",
    "pprint(test_messages)"
   ]
  },
  {
   "cell_type": "code",
   "execution_count": 22,
   "id": "7c4198a6-9c8f-42f2-a20f-9e0ed854845f",
   "metadata": {},
   "outputs": [
    {
     "name": "stdout",
     "output_type": "stream",
     "text": [
      "[Choice(finish_reason='stop', index=0, logprobs=None, message=ChatCompletionMessage(content='江戸村ににこる', role='assistant', function_call=None, tool_calls=None))]\n"
     ]
    }
   ],
   "source": [
    "fine_tuned_model_id = \"ft:gpt-3.5-turbo-0125:personal:zundamon-ner:9SNdZ8Dq\";\n",
    "response = client.chat.completions.create(\n",
    "    model=fine_tuned_model_id, messages=test_messages, top_p=0, max_tokens=500\n",
    ")\n",
    "print(response.choices)"
   ]
  },
  {
   "cell_type": "code",
   "execution_count": null,
   "id": "eba95faa-110f-4e4d-8589-4d6f26c69db9",
   "metadata": {},
   "outputs": [],
   "source": []
  }
 ],
 "metadata": {
  "kernelspec": {
   "display_name": "Python 3 (ipykernel)",
   "language": "python",
   "name": "python3"
  },
  "language_info": {
   "codemirror_mode": {
    "name": "ipython",
    "version": 3
   },
   "file_extension": ".py",
   "mimetype": "text/x-python",
   "name": "python",
   "nbconvert_exporter": "python",
   "pygments_lexer": "ipython3",
   "version": "3.9.6"
  }
 },
 "nbformat": 4,
 "nbformat_minor": 5
}
